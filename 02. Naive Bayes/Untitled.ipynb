{
 "cells": [
  {
   "cell_type": "code",
   "execution_count": 31,
   "metadata": {},
   "outputs": [],
   "source": [
    "from sklearn.datasets import load_digits\n",
    "import pandas as pd\n",
    "from sklearn.naive_bayes import MultinomialNB\n",
    "from sklearn.model_selection import train_test_split\n",
    "from sklearn.metrics import accuracy_score\n",
    "import seaborn as sns\n",
    "import numpy as np\n",
    "import matplotlib.pyplot as plt\n",
    "from sklearn.feature_extraction.text import CountVectorizer"
   ]
  },
  {
   "cell_type": "code",
   "execution_count": 11,
   "metadata": {},
   "outputs": [],
   "source": [
    "digits = load_digits()\n",
    "data = digits.data\n",
    "target = digits.target"
   ]
  },
  {
   "cell_type": "code",
   "execution_count": 23,
   "metadata": {},
   "outputs": [
    {
     "data": {
      "text/plain": [
       "{0, 1, 2, 3, 4, 5, 6, 7, 8, 9}"
      ]
     },
     "execution_count": 23,
     "metadata": {},
     "output_type": "execute_result"
    }
   ],
   "source": [
    "set(target)"
   ]
  },
  {
   "cell_type": "code",
   "execution_count": 12,
   "metadata": {},
   "outputs": [
    {
     "name": "stdout",
     "output_type": "stream",
     "text": [
      "[ 0.  0. 12. 10.  0.  0.  0.  0.  0.  0. 14. 16. 16. 14.  0.  0.  0.  0.\n",
      " 13. 16. 15. 10.  1.  0.  0.  0. 11. 16. 16.  7.  0.  0.  0.  0.  0.  4.\n",
      "  7. 16.  7.  0.  0.  0.  0.  0.  4. 16.  9.  0.  0.  0.  5.  4. 12. 16.\n",
      "  4.  0.  0.  0.  9. 16. 16. 10.  0.  0.]\n"
     ]
    }
   ],
   "source": [
    "print(data[5])"
   ]
  },
  {
   "cell_type": "code",
   "execution_count": 13,
   "metadata": {},
   "outputs": [
    {
     "data": {
      "image/png": "[encoded data removed]",
      "text/plain": [
       "<Figure size 432x288 with 1 Axes>"
      ]
     },
     "metadata": {},
     "output_type": "display_data"
    }
   ],
   "source": [
    "sns.set_style('whitegrid')\n",
    "sns.kdeplot(data[:,10], bw = 0.5)\n",
    "plt.show()"
   ]
  },
  {
   "cell_type": "code",
   "execution_count": 16,
   "metadata": {},
   "outputs": [
    {
     "name": "stdout",
     "output_type": "stream",
     "text": [
      "91.11111111111111\n"
     ]
    }
   ],
   "source": [
    "x_train, x_test, y_train, y_test = train_test_split(data, target, test_size = 0.2)\n",
    "clf = MultinomialNB()\n",
    "clf.fit(x_train, y_train)\n",
    "pred = clf.predict(x_test)\n",
    "acc = accuracy_score(y_test, pred, normalize = True)*100\n",
    "print(acc)"
   ]
  },
  {
   "cell_type": "code",
   "execution_count": 62,
   "metadata": {},
   "outputs": [
    {
     "name": "stdout",
     "output_type": "stream",
     "text": [
      "<class 'numpy.ndarray'>\n",
      "[18 42 11 59 60 53 50  3 26 10]\n",
      "[-3.10471916 -3.16243739 -3.16722336 -3.16722336 -3.16935783 -3.17525123\n",
      " -3.19917842 -3.20248603 -3.21414959 -3.24420572]\n",
      "<class 'numpy.ndarray'>\n",
      "[19 20 12 27 28 36 52 44 60 11]\n",
      "[-3.05738477 -3.0951603  -3.11435475 -3.11483936 -3.11969846 -3.13293719\n",
      " -3.14036849 -3.15388559 -3.19085078 -3.21896189]\n",
      "<class 'numpy.ndarray'>\n",
      "[ 3 51 59 10 60 12 28 52 11 43]\n",
      "[-3.09863875 -3.09863875 -3.11127475 -3.1251034  -3.1775102  -3.21178664\n",
      " -3.24669719 -3.25605946 -3.26254725 -3.27925408]\n",
      "<class 'numpy.ndarray'>\n",
      "[59 28  3  4 60 53 10 20 45 36]\n",
      "[-3.04969338 -3.0600515  -3.07326654 -3.07464364 -3.09787889 -3.18168985\n",
      " -3.20026624 -3.22078787 -3.23578547 -3.23686539]\n",
      "<class 'numpy.ndarray'>\n",
      "[44 34 26 37 52 11 36 43 60  4]\n",
      "[-3.06152824 -3.06152824 -3.0625048  -3.10593564 -3.14654507 -3.14920535\n",
      " -3.17292614 -3.22844923 -3.28968679 -3.30451102]\n",
      "<class 'numpy.ndarray'>\n",
      "[59 10 26 18  4  3 11  5 27 52]\n",
      "[-3.0299132  -3.03899179 -3.0560076  -3.06485928 -3.09526542 -3.16260574\n",
      " -3.22597536 -3.24372402 -3.2521534  -3.34183611]\n",
      "<class 'numpy.ndarray'>\n",
      "[60 34 42 11 26 35 61 51 18 36]\n",
      "[-3.02952276 -3.05214085 -3.05822843 -3.06671905 -3.12725486 -3.17308012\n",
      " -3.19169273 -3.20411525 -3.22055397 -3.25312283]\n",
      "<class 'numpy.ndarray'>\n",
      "[36  4 35  3 51 29 28 13 11 43]\n",
      "[-3.0160749  -3.06094783 -3.11382589 -3.13997117 -3.18801658 -3.19324156\n",
      " -3.19557256 -3.19907929 -3.23909657 -3.24705011]\n",
      "<class 'numpy.ndarray'>\n",
      "[35 28 60 27 59 36 10  4 18  3]\n",
      "[-3.1527002  -3.2098278  -3.22660672 -3.23624125 -3.24769613 -3.25928375\n",
      " -3.27159701 -3.27870183 -3.34438976 -3.34884127]\n",
      "<class 'numpy.ndarray'>\n",
      "[29 21 60 28 10 18 59 27  3 37]\n",
      "[-3.10506234 -3.11374127 -3.15678527 -3.17618353 -3.19754407 -3.2285626\n",
      " -3.24665024 -3.25945308 -3.26225813 -3.29132829]\n"
     ]
    }
   ],
   "source": [
    "for i in range(len(set(target))):\n",
    "    m = clf.feature_log_prob_[i].argsort()[-10:][::-1]\n",
    "    print(type(m))\n",
    "    print(m)\n",
    "    m = clf.feature_log_prob_[i][m]\n",
    "    print(m)"
   ]
  },
  {
   "cell_type": "code",
   "execution_count": 36,
   "metadata": {},
   "outputs": [
    {
     "data": {
      "text/plain": [
       "array([[-10.70412049,  -9.09468258,  -4.40333469,  -3.20248603,\n",
       "         -3.34847939,  -4.72018421,  -9.31782613, -10.70412049,\n",
       "        -10.70412049,  -5.85209022,  -3.24420572,  -3.16722336,\n",
       "         -3.30901294,  -3.33515009,  -5.82131857, -10.70412049,\n",
       "        -10.70412049,  -4.45029168,  -3.10471916,  -4.04996797,\n",
       "         -4.90200211,  -3.25578663,  -4.52617637, -10.70412049,\n",
       "        -10.70412049,  -4.0974703 ,  -3.21414959,  -5.01038835,\n",
       "         -7.52606666,  -3.53554059,  -3.90953391, -10.70412049,\n",
       "        -10.70412049,  -3.99481615,  -3.30166897,  -5.7136879 ,\n",
       "         -8.50689591,  -3.58286804,  -3.79936972, -10.70412049,\n",
       "        -10.70412049,  -4.53450976,  -3.16243739,  -5.11687183,\n",
       "         -5.32422314,  -3.33011863,  -3.99116429, -10.70412049,\n",
       "        -10.70412049,  -5.99459029,  -3.19917842,  -3.44149189,\n",
       "         -3.42135931,  -3.17525123,  -4.85479571, -10.70412049,\n",
       "        -10.70412049, -10.70412049,  -4.37261864,  -3.16722336,\n",
       "         -3.16935783,  -4.0655527 ,  -7.09320258, -10.70412049],\n",
       "       [-10.74675588,  -9.64814359,  -4.8974311 ,  -3.57356413,\n",
       "         -3.40592032,  -3.87152379,  -5.68416084, -10.74675588,\n",
       "        -10.74675588,  -7.85638412,  -4.35651521,  -3.21896189,\n",
       "         -3.11435475,  -3.56821039,  -5.53182012, -10.74675588,\n",
       "         -9.64814359,  -5.5992614 ,  -3.7779055 ,  -3.05738477,\n",
       "         -3.0951603 ,  -3.69923866,  -6.12178306, -10.74675588,\n",
       "        -10.0536087 ,  -4.95679571,  -3.54633098,  -3.11483936,\n",
       "         -3.11969846,  -3.85512998,  -6.72140419, -10.74675588,\n",
       "        -10.74675588,  -5.57627188,  -3.85006155,  -3.31604879,\n",
       "         -3.13293719,  -3.95778413,  -6.65241131, -10.74675588,\n",
       "        -10.74675588,  -6.484076  ,  -4.11739262,  -3.45305816,\n",
       "         -3.15388559,  -3.88924181,  -6.68631287, -10.74675588,\n",
       "        -10.74675588,  -7.7510236 ,  -4.22466308,  -3.39303355,\n",
       "         -3.14036849,  -3.64755413,  -5.0429734 ,  -6.35230672,\n",
       "        -10.74675588, -10.0536087 ,  -5.02317077,  -3.57894669,\n",
       "         -3.19085078,  -3.55231903,  -4.62865868,  -5.33958411],\n",
       "       [-10.69503105,  -5.81983373,  -3.47905605,  -3.09863875,\n",
       "         -3.49460616,  -4.86022032,  -7.69929878, -10.69503105,\n",
       "        -10.69503105,  -4.08703043,  -3.1251034 ,  -3.26254725,\n",
       "         -3.21178664,  -4.02934734,  -6.52064379, -10.69503105,\n",
       "        -10.00188387,  -4.2119237 ,  -3.68743044,  -4.26369997,\n",
       "         -3.29075194,  -3.98939196,  -6.37754294, -10.69503105,\n",
       "        -10.69503105,  -5.95009893,  -5.20196961,  -4.18031836,\n",
       "         -3.24669719,  -4.28650226,  -7.0061516 , -10.69503105,\n",
       "        -10.69503105,  -8.29713578,  -5.46392244,  -3.56093733,\n",
       "         -3.40610336,  -4.97144595,  -8.29713578, -10.69503105,\n",
       "        -10.69503105,  -6.26421426,  -4.04864054,  -3.27925408,\n",
       "         -3.77435955,  -5.09291223,  -5.85874915,  -9.30873669,\n",
       "         -9.30873669,  -5.36231226,  -3.33429115,  -3.09863875,\n",
       "         -3.25605946,  -3.36790776,  -3.75674657,  -6.01289983,\n",
       "        -10.00188387,  -5.78975628,  -3.43240245,  -3.11127475,\n",
       "         -3.1775102 ,  -3.30238353,  -3.70754081,  -5.15769679],\n",
       "       [-10.7603467 ,  -6.14522618,  -3.59330882,  -3.07326654,\n",
       "         -3.07464364,  -3.7250781 ,  -5.87754478, -10.06719952,\n",
       "        -10.06719952,  -4.30514814,  -3.20026624,  -3.54952825,\n",
       "         -3.30331461,  -3.24882205,  -4.96428895,  -9.37405234,\n",
       "        -10.7603467 ,  -4.91680228,  -4.3973186 ,  -4.60974393,\n",
       "         -3.22078787,  -3.50334399,  -5.91615961, -10.7603467 ,\n",
       "        -10.7603467 ,  -6.82852107,  -5.36671915,  -3.5443717 ,\n",
       "         -3.0600515 ,  -4.00690878,  -8.19539734, -10.7603467 ,\n",
       "        -10.7603467 ,  -8.27544005,  -5.67894234,  -4.0022522 ,\n",
       "         -3.23686539,  -3.30216054,  -4.87702431, -10.7603467 ,\n",
       "        -10.7603467 ,  -6.49766682,  -5.43733672,  -5.77674008,\n",
       "         -4.24711659,  -3.23578547,  -3.87177424, -10.7603467 ,\n",
       "        -10.7603467 ,  -5.81870428,  -3.74105005,  -3.88614821,\n",
       "         -3.6112151 ,  -3.18168985,  -3.94033034,  -8.19539734,\n",
       "        -10.7603467 ,  -6.36589755,  -3.48794831,  -3.04969338,\n",
       "         -3.09787889,  -3.56891737,  -5.31792899,  -8.19539734],\n",
       "       [-10.68663539, -10.68663539,  -6.43814015,  -3.76104019,\n",
       "         -3.30451102,  -5.08083332,  -7.02307374,  -7.50858156,\n",
       "        -10.68663539,  -8.20172874,  -4.44635954,  -3.14920535,\n",
       "         -3.64522372,  -4.98285291,  -5.58676896,  -6.90244575,\n",
       "        -10.68663539,  -5.97710519,  -3.36677046,  -3.32653141,\n",
       "         -4.19136983,  -3.92506262,  -4.37853695,  -6.79481509,\n",
       "         -9.99348821,  -4.18234721,  -3.0625048 ,  -3.92390588,\n",
       "         -3.7719045 ,  -3.33804786,  -3.8709954 ,  -9.30034103,\n",
       "        -10.68663539,  -3.58166994,  -3.06152824,  -3.47213097,\n",
       "         -3.17292614,  -3.10593564,  -4.06923241, -10.68663539,\n",
       "         -8.48941081,  -3.91929226,  -3.33099428,  -3.22844923,\n",
       "         -3.06152824,  -3.42190521,  -5.41877723, -10.68663539,\n",
       "         -8.38405029,  -5.61146157,  -4.64163007,  -3.68630093,\n",
       "         -3.14654507,  -4.3167344 ,  -9.5880231 , -10.68663539,\n",
       "        -10.68663539,  -9.07719748,  -6.19799902,  -3.65577791,\n",
       "         -3.28968679,  -5.09938673, -10.68663539, -10.68663539],\n",
       "       [-10.73201754,  -5.84921561,  -3.44377313,  -3.16260574,\n",
       "         -3.09526542,  -3.24372402,  -4.33675594,  -9.12257962,\n",
       "        -10.03887036,  -4.37417527,  -3.03899179,  -3.22597536,\n",
       "         -3.59872158,  -3.88933425,  -5.00516979,  -9.34572317,\n",
       "        -10.73201754,  -3.97974716,  -3.06485928,  -4.00338892,\n",
       "         -5.07253532,  -6.3499909 ,  -8.42943244, -10.73201754,\n",
       "        -10.73201754,  -3.98560541,  -3.0560076 ,  -3.2521534 ,\n",
       "         -3.54511652,  -4.39165823,  -6.84019724, -10.73201754,\n",
       "        -10.73201754,  -5.01170576,  -3.6741196 ,  -3.59712668,\n",
       "         -3.53383396,  -3.70736851,  -5.18294145, -10.73201754,\n",
       "        -10.73201754,  -7.36472171,  -5.46932735,  -4.41485285,\n",
       "         -3.69674894,  -3.64027542,  -4.84313958, -10.73201754,\n",
       "        -10.73201754,  -6.10704472,  -3.98560541,  -3.6336419 ,\n",
       "         -3.34183611,  -3.74084065,  -5.33838999, -10.73201754,\n",
       "        -10.73201754,  -5.87998727,  -3.37701561,  -3.0299132 ,\n",
       "         -3.47009044,  -4.73308097,  -7.1484986 , -10.73201754],\n",
       "       [-10.7216361 , -10.7216361 ,  -5.55685012,  -3.33951173,\n",
       "         -3.47955374,  -5.27059764,  -9.62302381, -10.7216361 ,\n",
       "        -10.7216361 ,  -9.33534174,  -3.78335161,  -3.06671905,\n",
       "         -3.90052863,  -5.78716217,  -8.41905101, -10.7216361 ,\n",
       "        -10.7216361 ,  -6.00313723,  -3.22055397,  -3.47740858,\n",
       "         -5.79438241,  -8.0135859 , -10.02848892, -10.7216361 ,\n",
       "        -10.7216361 ,  -4.85233919,  -3.12725486,  -3.63573463,\n",
       "         -4.31310731,  -5.00132432,  -7.88842275, -10.7216361 ,\n",
       "        -10.7216361 ,  -4.435638  ,  -3.05214085,  -3.17308012,\n",
       "         -3.25312283,  -3.39780553,  -4.72518401, -10.7216361 ,\n",
       "        -10.7216361 ,  -5.04831283,  -3.05822843,  -3.39385556,\n",
       "         -4.04581288,  -3.41242373,  -3.56545946,  -7.35434027,\n",
       "        -10.7216361 ,  -7.2559002 ,  -3.3958286 ,  -3.20411525,\n",
       "         -3.99181203,  -3.28031571,  -3.40575259,  -6.53198136,\n",
       "        -10.7216361 , -10.7216361 ,  -5.34173874,  -3.37240527,\n",
       "         -3.02952276,  -3.19169273,  -4.30490382,  -8.08257877],\n",
       "       [-10.64215766,  -7.34632079,  -4.06568809,  -3.13997117,\n",
       "         -3.06094783,  -3.32361811,  -4.14086799,  -5.86303417,\n",
       "        -10.64215766,  -5.53621219,  -3.35118288,  -3.23909657,\n",
       "         -3.29164149,  -3.19907929,  -4.08822426,  -6.42264996,\n",
       "        -10.64215766,  -5.78234526,  -4.15599687,  -4.88010628,\n",
       "         -3.73440238,  -3.28523942,  -4.63089049,  -8.33957257,\n",
       "        -10.64215766,  -6.15352129,  -4.24356273,  -3.84757108,\n",
       "         -3.19557256,  -3.19324156,  -4.07548523, -10.64215766,\n",
       "        -10.64215766,  -5.23498589,  -3.49224082,  -3.11382589,\n",
       "         -3.0160749 ,  -3.28651656,  -4.22542538, -10.64215766,\n",
       "        -10.64215766,  -5.72217674,  -4.03415704,  -3.24705011,\n",
       "         -3.34100986,  -4.49797203,  -6.39366242, -10.64215766,\n",
       "        -10.64215766,  -8.0772083 ,  -4.52626554,  -3.18801658,\n",
       "         -3.98286374,  -7.42328184, -10.64215766, -10.64215766,\n",
       "        -10.64215766,  -7.64642539,  -3.84421725,  -3.26690188,\n",
       "         -4.96198505,  -9.54354537, -10.64215766, -10.64215766],\n",
       "       [-10.70703503,  -7.61599257,  -4.16600503,  -3.34884127,\n",
       "         -3.27870183,  -3.98560933,  -6.64659202, -10.70703503,\n",
       "         -8.91527556,  -5.03371176,  -3.27159701,  -3.36944728,\n",
       "         -3.56341743,  -3.3578042 ,  -4.91097728, -10.70703503,\n",
       "        -10.01388785,  -4.60896075,  -3.34438976,  -3.82357244,\n",
       "         -3.72602929,  -3.3526727 ,  -5.04407455, -10.70703503,\n",
       "        -10.70703503,  -5.508538  ,  -3.61862625,  -3.23624125,\n",
       "         -3.2098278 ,  -3.84742012,  -6.30031578, -10.70703503,\n",
       "        -10.70703503,  -6.57990064,  -3.83698162,  -3.1527002 ,\n",
       "         -3.25928375,  -4.37731412,  -8.0679777 , -10.70703503,\n",
       "        -10.70703503,  -5.67008243,  -3.43602649,  -3.63291821,\n",
       "         -3.58901882,  -3.68773837,  -5.61328483, -10.70703503,\n",
       "        -10.70703503,  -5.73030129,  -3.39849223,  -3.72695909,\n",
       "         -3.68416694,  -3.55241967,  -5.00325255, -10.01388785,\n",
       "        -10.70703503,  -7.66251259,  -4.14459093,  -3.24769613,\n",
       "         -3.22660672,  -3.89799572,  -5.71660244,  -9.60842274],\n",
       "       [-10.74662678,  -7.65558432,  -3.97126069,  -3.26225813,\n",
       "         -3.33446644,  -4.01322489,  -5.3439494 ,  -7.61113256,\n",
       "        -10.74662678,  -4.87450899,  -3.19754407,  -3.47770665,\n",
       "         -3.40190772,  -3.31414297,  -4.90308236,  -7.65558432,\n",
       "        -10.74662678,  -4.46623094,  -3.2285626 ,  -4.00965982,\n",
       "         -3.61412923,  -3.11374127,  -4.66898453,  -8.95486731,\n",
       "        -10.74662678,  -5.07330351,  -3.4221368 ,  -3.25945308,\n",
       "         -3.17618353,  -3.10506234,  -4.4440078 , -10.74662678,\n",
       "        -10.74662678,  -7.52775095,  -4.66669358,  -4.10023626,\n",
       "         -4.08221776,  -3.29132829,  -4.17714536, -10.74662678,\n",
       "        -10.74662678,  -7.97403806,  -6.41589344,  -6.21402728,\n",
       "         -4.88015872,  -3.47910135,  -3.96216972,  -9.13718887,\n",
       "        -10.74662678,  -6.19274989,  -3.95316065,  -4.16321756,\n",
       "         -3.97240289,  -3.39932708,  -4.06954332,  -7.7508945 ,\n",
       "        -10.74662678,  -8.26172013,  -3.97126069,  -3.24665024,\n",
       "         -3.15678527,  -3.55519745,  -4.95056903,  -8.3487315 ]])"
      ]
     },
     "execution_count": 36,
     "metadata": {},
     "output_type": "execute_result"
    }
   ],
   "source": [
    "clf.coef_"
   ]
  },
  {
   "cell_type": "code",
   "execution_count": 55,
   "metadata": {},
   "outputs": [
    {
     "name": "stdout",
     "output_type": "stream",
     "text": [
      "[[0 1 1 0 1 0 0 0]]\n"
     ]
    }
   ],
   "source": [
    "text = ['I am Navdeep.', ' I live in Patiala.', ' study in Thapar University']\n",
    "vectorizer = CountVectorizer()\n",
    "vectorizer.fit(text)\n",
    "x = vectorizer.transform(['Hi I live in Patiala'])\n",
    "print(x.toarray())"
   ]
  },
  {
   "cell_type": "code",
   "execution_count": 56,
   "metadata": {},
   "outputs": [
    {
     "data": {
      "text/plain": [
       "{'am': 0,\n",
       " 'navdeep': 3,\n",
       " 'live': 2,\n",
       " 'in': 1,\n",
       " 'patiala': 4,\n",
       " 'study': 5,\n",
       " 'thapar': 6,\n",
       " 'university': 7}"
      ]
     },
     "execution_count": 56,
     "metadata": {},
     "output_type": "execute_result"
    }
   ],
   "source": [
    "vectorizer.vocabulary_"
   ]
  },
  {
   "cell_type": "code",
   "execution_count": 69,
   "metadata": {},
   "outputs": [
    {
     "data": {
      "text/plain": [
       "['am', 'in', 'live', 'navdeep', 'patiala', 'study', 'thapar', 'university']"
      ]
     },
     "execution_count": 69,
     "metadata": {},
     "output_type": "execute_result"
    }
   ],
   "source": [
    "vectorizer.get_feature_names()"
   ]
  },
  {
   "cell_type": "code",
   "execution_count": 52,
   "metadata": {},
   "outputs": [
    {
     "name": "stdout",
     "output_type": "stream",
     "text": [
      "None\n"
     ]
    }
   ],
   "source": [
    "print(vectorizer.get_stop_words())"
   ]
  },
  {
   "cell_type": "code",
   "execution_count": 53,
   "metadata": {},
   "outputs": [
    {
     "data": {
      "text/plain": [
       "set()"
      ]
     },
     "execution_count": 53,
     "metadata": {},
     "output_type": "execute_result"
    }
   ],
   "source": [
    "vectorizer.stop_words_"
   ]
  },
  {
   "cell_type": "code",
   "execution_count": 54,
   "metadata": {},
   "outputs": [
    {
     "name": "stdout",
     "output_type": "stream",
     "text": [
      "CountVectorizer(analyzer='word', binary=False, decode_error='strict',\n",
      "        dtype=<class 'numpy.int64'>, encoding='utf-8', input='content',\n",
      "        lowercase=True, max_df=1.0, max_features=None, min_df=1,\n",
      "        ngram_range=(1, 1), preprocessor=None, stop_words=None,\n",
      "        strip_accents=None, token_pattern='(?u)\\\\b\\\\w\\\\w+\\\\b',\n",
      "        tokenizer=None, vocabulary=None)\n"
     ]
    }
   ],
   "source": [
    "print(vectorizer)"
   ]
  },
  {
   "cell_type": "code",
   "execution_count": 68,
   "metadata": {},
   "outputs": [
    {
     "name": "stdout",
     "output_type": "stream",
     "text": [
      "[34 65  7 23  5  4 89]\n",
      "[65  5]\n"
     ]
    }
   ],
   "source": [
    "v = np.array([1,4])\n",
    "lst = np.array([34,65,7,23,5,4,89])\n",
    "print(lst)\n",
    "l = lst[v]\n",
    "print(l)"
   ]
  },
  {
   "cell_type": "code",
   "execution_count": null,
   "metadata": {},
   "outputs": [],
   "source": []
  }
 ],
 "metadata": {
  "kernelspec": {
   "display_name": "Python 3",
   "language": "python",
   "name": "python3"
  },
  "language_info": {
   "codemirror_mode": {
    "name": "ipython",
    "version": 3
   },
   "file_extension": ".py",
   "mimetype": "text/x-python",
   "name": "python",
   "nbconvert_exporter": "python",
   "pygments_lexer": "ipython3",
   "version": "3.6.6"
  }
 },
 "nbformat": 4,
 "nbformat_minor": 2
}
