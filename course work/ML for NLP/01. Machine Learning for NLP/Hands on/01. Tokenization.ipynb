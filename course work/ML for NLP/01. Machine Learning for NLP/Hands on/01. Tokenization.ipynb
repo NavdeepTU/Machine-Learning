{
 "cells": [
  {
   "cell_type": "code",
   "execution_count": 13,
   "id": "089bdf2b-cb7c-490a-ad83-d8150794fb3c",
   "metadata": {},
   "outputs": [
    {
     "name": "stderr",
     "output_type": "stream",
     "text": [
      "[nltk_data] Downloading package punkt to /Users/navdeep/nltk_data...\n",
      "[nltk_data]   Unzipping tokenizers/punkt.zip.\n"
     ]
    },
    {
     "data": {
      "text/plain": [
       "True"
      ]
     },
     "execution_count": 13,
     "metadata": {},
     "output_type": "execute_result"
    }
   ],
   "source": [
    "import nltk\n",
    "nltk.download('punkt')"
   ]
  },
  {
   "cell_type": "code",
   "execution_count": 3,
   "id": "525f34af-c539-4253-98a2-918642b244b0",
   "metadata": {},
   "outputs": [],
   "source": [
    "corpus = \"\"\"Welcome to krish naik nlp tutorials.\n",
    "Please do watch complete course ! to become expert in NLP.\n",
    "\"\"\""
   ]
  },
  {
   "cell_type": "code",
   "execution_count": 7,
   "id": "829d9724-8f0b-45ec-aeb9-91e306d24b94",
   "metadata": {},
   "outputs": [
    {
     "name": "stdout",
     "output_type": "stream",
     "text": [
      "Welcome to krish naik nlp tutorials.\n",
      "Please do watch complete course ! to become expert in NLP.\n",
      "\n"
     ]
    }
   ],
   "source": [
    "print(corpus)"
   ]
  },
  {
   "cell_type": "code",
   "execution_count": 9,
   "id": "9df43889-ae67-4193-a44d-83e705a2d88f",
   "metadata": {},
   "outputs": [],
   "source": [
    "from nltk.tokenize import sent_tokenize"
   ]
  },
  {
   "cell_type": "code",
   "execution_count": 17,
   "id": "94d777cd-cc78-4979-a7ca-7dbffaeef602",
   "metadata": {},
   "outputs": [
    {
     "name": "stdout",
     "output_type": "stream",
     "text": [
      "['Welcome to krish naik nlp tutorials.', 'Please do watch complete course !', 'to become expert in NLP.']\n"
     ]
    }
   ],
   "source": [
    "documents = sent_tokenize(corpus)\n",
    "print(documents)"
   ]
  },
  {
   "cell_type": "code",
   "execution_count": 19,
   "id": "5d97b9e9-eed8-4804-9776-3e3ec8ec837c",
   "metadata": {},
   "outputs": [
    {
     "name": "stdout",
     "output_type": "stream",
     "text": [
      "Welcome to krish naik nlp tutorials.\n",
      "Please do watch complete course !\n",
      "to become expert in NLP.\n"
     ]
    }
   ],
   "source": [
    "for document in documents:\n",
    "    print(document)"
   ]
  },
  {
   "cell_type": "code",
   "execution_count": 23,
   "id": "c5543d22-5483-4271-bf11-2813473ed5f9",
   "metadata": {},
   "outputs": [],
   "source": [
    "# corpus -> words\n",
    "from nltk.tokenize import word_tokenize"
   ]
  },
  {
   "cell_type": "code",
   "execution_count": 25,
   "id": "3205722c-69ff-450c-839e-5fca9021b3b4",
   "metadata": {},
   "outputs": [
    {
     "name": "stdout",
     "output_type": "stream",
     "text": [
      "['Welcome', 'to', 'krish', 'naik', 'nlp', 'tutorials', '.', 'Please', 'do', 'watch', 'complete', 'course', '!', 'to', 'become', 'expert', 'in', 'NLP', '.']\n"
     ]
    }
   ],
   "source": [
    "tokens = word_tokenize(corpus)\n",
    "print(tokens)"
   ]
  },
  {
   "cell_type": "code",
   "execution_count": 27,
   "id": "7caf26ba-1e2c-484e-92fa-3be93a7429d7",
   "metadata": {},
   "outputs": [
    {
     "name": "stdout",
     "output_type": "stream",
     "text": [
      "['Welcome', 'to', 'krish', 'naik', 'nlp', 'tutorials', '.']\n",
      "['Please', 'do', 'watch', 'complete', 'course', '!']\n",
      "['to', 'become', 'expert', 'in', 'NLP', '.']\n"
     ]
    }
   ],
   "source": [
    "# document -> words\n",
    "for document in documents:\n",
    "    print(word_tokenize(document))"
   ]
  },
  {
   "cell_type": "code",
   "execution_count": null,
   "id": "c70a1c21-8330-4353-a4d2-f8e0757d7520",
   "metadata": {},
   "outputs": [],
   "source": []
  }
 ],
 "metadata": {
  "kernelspec": {
   "display_name": "Python 3 (ipykernel)",
   "language": "python",
   "name": "python3"
  },
  "language_info": {
   "codemirror_mode": {
    "name": "ipython",
    "version": 3
   },
   "file_extension": ".py",
   "mimetype": "text/x-python",
   "name": "python",
   "nbconvert_exporter": "python",
   "pygments_lexer": "ipython3",
   "version": "3.12.4"
  }
 },
 "nbformat": 4,
 "nbformat_minor": 5
}
