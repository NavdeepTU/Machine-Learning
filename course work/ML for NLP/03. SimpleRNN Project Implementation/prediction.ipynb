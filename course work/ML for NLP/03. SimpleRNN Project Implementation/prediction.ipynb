{
 "cells": [
  {
   "cell_type": "code",
   "execution_count": 1,
   "metadata": {},
   "outputs": [],
   "source": [
    "# Step 1 : Import libraries and load the model\n",
    "import numpy as np\n",
    "import tensorflow as tf\n",
    "from tensorflow.keras.datasets import imdb\n",
    "from tensorflow.keras.preprocessing import sequence\n",
    "from tensorflow.keras.models import load_model"
   ]
  },
  {
   "cell_type": "code",
   "execution_count": 2,
   "metadata": {},
   "outputs": [],
   "source": [
    "word_index = imdb.get_word_index()\n",
    "reverse_word_index = {value: key for key, value in word_index.items()}"
   ]
  },
  {
   "cell_type": "code",
   "execution_count": 3,
   "metadata": {},
   "outputs": [
    {
     "name": "stderr",
     "output_type": "stream",
     "text": [
      "WARNING:absl:Compiled the loaded model, but the compiled metrics have yet to be built. `model.compile_metrics` will be empty until you train or evaluate the model.\n"
     ]
    },
    {
     "data": {
      "text/html": [
       "<pre style=\"white-space:pre;overflow-x:auto;line-height:normal;font-family:Menlo,'DejaVu Sans Mono',consolas,'Courier New',monospace\"><span style=\"font-weight: bold\">Model: \"sequential\"</span>\n",
       "</pre>\n"
      ],
      "text/plain": [
       "\u001b[1mModel: \"sequential\"\u001b[0m\n"
      ]
     },
     "metadata": {},
     "output_type": "display_data"
    },
    {
     "data": {
      "text/html": [
       "<pre style=\"white-space:pre;overflow-x:auto;line-height:normal;font-family:Menlo,'DejaVu Sans Mono',consolas,'Courier New',monospace\">┏━━━━━━━━━━━━━━━━━━━━━━━━━━━━━━━━━┳━━━━━━━━━━━━━━━━━━━━━━━━┳━━━━━━━━━━━━━━━┓\n",
       "┃<span style=\"font-weight: bold\"> Layer (type)                    </span>┃<span style=\"font-weight: bold\"> Output Shape           </span>┃<span style=\"font-weight: bold\">       Param # </span>┃\n",
       "┡━━━━━━━━━━━━━━━━━━━━━━━━━━━━━━━━━╇━━━━━━━━━━━━━━━━━━━━━━━━╇━━━━━━━━━━━━━━━┩\n",
       "│ embedding (<span style=\"color: #0087ff; text-decoration-color: #0087ff\">Embedding</span>)           │ (<span style=\"color: #00d7ff; text-decoration-color: #00d7ff\">None</span>, <span style=\"color: #00af00; text-decoration-color: #00af00\">500</span>, <span style=\"color: #00af00; text-decoration-color: #00af00\">128</span>)       │     <span style=\"color: #00af00; text-decoration-color: #00af00\">1,280,000</span> │\n",
       "├─────────────────────────────────┼────────────────────────┼───────────────┤\n",
       "│ simple_rnn (<span style=\"color: #0087ff; text-decoration-color: #0087ff\">SimpleRNN</span>)          │ (<span style=\"color: #00d7ff; text-decoration-color: #00d7ff\">None</span>, <span style=\"color: #00af00; text-decoration-color: #00af00\">128</span>)            │        <span style=\"color: #00af00; text-decoration-color: #00af00\">32,896</span> │\n",
       "├─────────────────────────────────┼────────────────────────┼───────────────┤\n",
       "│ dense (<span style=\"color: #0087ff; text-decoration-color: #0087ff\">Dense</span>)                   │ (<span style=\"color: #00d7ff; text-decoration-color: #00d7ff\">None</span>, <span style=\"color: #00af00; text-decoration-color: #00af00\">1</span>)              │           <span style=\"color: #00af00; text-decoration-color: #00af00\">129</span> │\n",
       "└─────────────────────────────────┴────────────────────────┴───────────────┘\n",
       "</pre>\n"
      ],
      "text/plain": [
       "┏━━━━━━━━━━━━━━━━━━━━━━━━━━━━━━━━━┳━━━━━━━━━━━━━━━━━━━━━━━━┳━━━━━━━━━━━━━━━┓\n",
       "┃\u001b[1m \u001b[0m\u001b[1mLayer (type)                   \u001b[0m\u001b[1m \u001b[0m┃\u001b[1m \u001b[0m\u001b[1mOutput Shape          \u001b[0m\u001b[1m \u001b[0m┃\u001b[1m \u001b[0m\u001b[1m      Param #\u001b[0m\u001b[1m \u001b[0m┃\n",
       "┡━━━━━━━━━━━━━━━━━━━━━━━━━━━━━━━━━╇━━━━━━━━━━━━━━━━━━━━━━━━╇━━━━━━━━━━━━━━━┩\n",
       "│ embedding (\u001b[38;5;33mEmbedding\u001b[0m)           │ (\u001b[38;5;45mNone\u001b[0m, \u001b[38;5;34m500\u001b[0m, \u001b[38;5;34m128\u001b[0m)       │     \u001b[38;5;34m1,280,000\u001b[0m │\n",
       "├─────────────────────────────────┼────────────────────────┼───────────────┤\n",
       "│ simple_rnn (\u001b[38;5;33mSimpleRNN\u001b[0m)          │ (\u001b[38;5;45mNone\u001b[0m, \u001b[38;5;34m128\u001b[0m)            │        \u001b[38;5;34m32,896\u001b[0m │\n",
       "├─────────────────────────────────┼────────────────────────┼───────────────┤\n",
       "│ dense (\u001b[38;5;33mDense\u001b[0m)                   │ (\u001b[38;5;45mNone\u001b[0m, \u001b[38;5;34m1\u001b[0m)              │           \u001b[38;5;34m129\u001b[0m │\n",
       "└─────────────────────────────────┴────────────────────────┴───────────────┘\n"
      ]
     },
     "metadata": {},
     "output_type": "display_data"
    },
    {
     "data": {
      "text/html": [
       "<pre style=\"white-space:pre;overflow-x:auto;line-height:normal;font-family:Menlo,'DejaVu Sans Mono',consolas,'Courier New',monospace\"><span style=\"font-weight: bold\"> Total params: </span><span style=\"color: #00af00; text-decoration-color: #00af00\">1,313,027</span> (5.01 MB)\n",
       "</pre>\n"
      ],
      "text/plain": [
       "\u001b[1m Total params: \u001b[0m\u001b[38;5;34m1,313,027\u001b[0m (5.01 MB)\n"
      ]
     },
     "metadata": {},
     "output_type": "display_data"
    },
    {
     "data": {
      "text/html": [
       "<pre style=\"white-space:pre;overflow-x:auto;line-height:normal;font-family:Menlo,'DejaVu Sans Mono',consolas,'Courier New',monospace\"><span style=\"font-weight: bold\"> Trainable params: </span><span style=\"color: #00af00; text-decoration-color: #00af00\">1,313,025</span> (5.01 MB)\n",
       "</pre>\n"
      ],
      "text/plain": [
       "\u001b[1m Trainable params: \u001b[0m\u001b[38;5;34m1,313,025\u001b[0m (5.01 MB)\n"
      ]
     },
     "metadata": {},
     "output_type": "display_data"
    },
    {
     "data": {
      "text/html": [
       "<pre style=\"white-space:pre;overflow-x:auto;line-height:normal;font-family:Menlo,'DejaVu Sans Mono',consolas,'Courier New',monospace\"><span style=\"font-weight: bold\"> Non-trainable params: </span><span style=\"color: #00af00; text-decoration-color: #00af00\">0</span> (0.00 B)\n",
       "</pre>\n"
      ],
      "text/plain": [
       "\u001b[1m Non-trainable params: \u001b[0m\u001b[38;5;34m0\u001b[0m (0.00 B)\n"
      ]
     },
     "metadata": {},
     "output_type": "display_data"
    },
    {
     "data": {
      "text/html": [
       "<pre style=\"white-space:pre;overflow-x:auto;line-height:normal;font-family:Menlo,'DejaVu Sans Mono',consolas,'Courier New',monospace\"><span style=\"font-weight: bold\"> Optimizer params: </span><span style=\"color: #00af00; text-decoration-color: #00af00\">2</span> (12.00 B)\n",
       "</pre>\n"
      ],
      "text/plain": [
       "\u001b[1m Optimizer params: \u001b[0m\u001b[38;5;34m2\u001b[0m (12.00 B)\n"
      ]
     },
     "metadata": {},
     "output_type": "display_data"
    }
   ],
   "source": [
    "# load the pre-trainned model with Relu activation\n",
    "model = load_model(\"simple_rnn_imdb.h5\")\n",
    "model.summary()"
   ]
  },
  {
   "cell_type": "code",
   "execution_count": 4,
   "metadata": {},
   "outputs": [
    {
     "data": {
      "text/plain": [
       "[array([[ 1.078831  ,  0.32084122,  0.8627859 , ..., -0.864103  ,\n",
       "          0.04016542,  1.2637957 ],\n",
       "        [ 0.04624319,  0.01648094,  0.01576719, ...,  0.01190191,\n",
       "          0.02219669, -0.01136034],\n",
       "        [-0.01701998,  0.27615312,  0.0642601 , ...,  0.07202914,\n",
       "         -0.15818045,  0.10482904],\n",
       "        ...,\n",
       "        [-0.08941209,  0.13575724, -0.0567534 , ...,  0.15581988,\n",
       "         -0.02995244, -0.07382877],\n",
       "        [ 0.0959513 , -0.03289871,  0.1057633 , ..., -0.0278586 ,\n",
       "          0.13006163,  0.16984887],\n",
       "        [-0.16972876,  0.07004344, -0.13531192, ...,  0.07479406,\n",
       "         -0.12298072, -0.12620722]], dtype=float32),\n",
       " array([[ 0.11187238, -0.05639819, -0.06362566, ...,  0.11216456,\n",
       "         -0.04058396,  0.05969325],\n",
       "        [ 0.06588463, -0.12292552,  0.0052632 , ..., -0.21818018,\n",
       "         -0.14678465, -0.03676748],\n",
       "        [ 0.194352  , -0.15798935,  0.06507222, ..., -0.12395565,\n",
       "         -0.11359987,  0.00171324],\n",
       "        ...,\n",
       "        [-0.03489494,  0.01590529, -0.04842706, ..., -0.03382803,\n",
       "         -0.0662877 , -0.12894   ],\n",
       "        [ 0.04227532, -0.11517768,  0.04507849, ...,  0.09719976,\n",
       "         -0.08481492, -0.13124488],\n",
       "        [ 0.05642584, -0.14173272,  0.07499567, ...,  0.04227672,\n",
       "         -0.00228878, -0.11889973]], dtype=float32),\n",
       " array([[-0.00803957,  0.02221601, -0.02518   , ...,  0.01041896,\n",
       "          0.03067076, -0.03421254],\n",
       "        [ 0.10011139, -0.13983275, -0.05040701, ..., -0.19818725,\n",
       "         -0.02684687,  0.05481174],\n",
       "        [ 0.0890109 ,  0.04151015, -0.14771722, ..., -0.17958762,\n",
       "         -0.00807694,  0.05938577],\n",
       "        ...,\n",
       "        [-0.00370448,  0.02740724, -0.02037284, ..., -0.09440913,\n",
       "          0.19291969,  0.00697092],\n",
       "        [-0.01361086,  0.14781164, -0.0246984 , ..., -0.12792288,\n",
       "         -0.04580131,  0.05317953],\n",
       "        [-0.02128788, -0.07998307, -0.0235313 , ..., -0.08674178,\n",
       "         -0.04386057,  0.09648412]], dtype=float32),\n",
       " array([ 0.04119676,  0.00212073, -0.01501745,  0.0254167 , -0.04488717,\n",
       "        -0.05299443,  0.01110779, -0.04152665, -0.01748271, -0.07439274,\n",
       "        -0.03292678, -0.05472798, -0.05496044, -0.02412724, -0.0161996 ,\n",
       "        -0.02170635, -0.01297877, -0.01814162, -0.0365115 ,  0.00527868,\n",
       "        -0.01921099, -0.01045544, -0.02784237, -0.00530625, -0.03594182,\n",
       "        -0.07845072,  0.04956075, -0.04978019,  0.00899602,  0.02096689,\n",
       "        -0.03322933, -0.0327559 ,  0.02417658, -0.01873771, -0.02970413,\n",
       "         0.04061362,  0.01017809, -0.00320707, -0.02424284, -0.0103365 ,\n",
       "        -0.02491604, -0.03023594, -0.04180151, -0.04881911, -0.04120052,\n",
       "        -0.02704391, -0.05845197, -0.04440552, -0.00638636,  0.0339275 ,\n",
       "        -0.05779232, -0.07456961, -0.04742774, -0.05839701,  0.0364622 ,\n",
       "         0.02888809,  0.0467414 , -0.01414403,  0.01851725, -0.03496108,\n",
       "        -0.0543897 , -0.02921301, -0.05966223, -0.04976929, -0.00950518,\n",
       "        -0.06141555,  0.00189796,  0.01489482, -0.02213323,  0.0123715 ,\n",
       "         0.05613333, -0.03017924, -0.01531108,  0.02020285, -0.06557254,\n",
       "        -0.01512387, -0.05484911, -0.04703723, -0.02081218, -0.03722157,\n",
       "        -0.05151151, -0.00754731, -0.04436019, -0.03278455,  0.04751811,\n",
       "        -0.0155131 ,  0.00854751, -0.0458786 ,  0.02778741,  0.03686826,\n",
       "        -0.00130339,  0.05510272,  0.04475849, -0.02680008, -0.01401912,\n",
       "        -0.03495015, -0.05195708, -0.01447412, -0.00901985,  0.0526694 ,\n",
       "        -0.02568231, -0.04593755, -0.02578817, -0.04288491,  0.00650713,\n",
       "         0.01490861,  0.02621621, -0.03177027, -0.04780456, -0.06386806,\n",
       "        -0.01382641, -0.05245371,  0.00248055,  0.02727731,  0.05959823,\n",
       "        -0.04648203, -0.03864513,  0.03554156, -0.0467606 ,  0.03882745,\n",
       "         0.0054356 , -0.00699675,  0.03473791,  0.01681646, -0.03517594,\n",
       "        -0.0102118 ,  0.03541317,  0.03556325], dtype=float32),\n",
       " array([[ 0.00183582],\n",
       "        [-0.33217654],\n",
       "        [-0.09461327],\n",
       "        [-0.13783255],\n",
       "        [-0.25092912],\n",
       "        [ 0.10515734],\n",
       "        [-0.15130581],\n",
       "        [ 0.08772483],\n",
       "        [-0.18650189],\n",
       "        [-0.00989342],\n",
       "        [ 0.01725631],\n",
       "        [-0.15148376],\n",
       "        [-0.21335801],\n",
       "        [ 0.08871846],\n",
       "        [-0.11057748],\n",
       "        [-0.17343323],\n",
       "        [-0.14210545],\n",
       "        [-0.16009036],\n",
       "        [-0.26998004],\n",
       "        [-0.07825448],\n",
       "        [-0.6604782 ],\n",
       "        [ 0.06840892],\n",
       "        [ 0.3962653 ],\n",
       "        [ 0.15460746],\n",
       "        [ 0.05755692],\n",
       "        [-0.14792517],\n",
       "        [ 0.04147238],\n",
       "        [-0.17564611],\n",
       "        [-0.11771068],\n",
       "        [ 0.12475593],\n",
       "        [ 0.50636494],\n",
       "        [-0.01237932],\n",
       "        [ 0.26256692],\n",
       "        [-0.00755135],\n",
       "        [ 0.02733546],\n",
       "        [-0.23247948],\n",
       "        [-0.05166944],\n",
       "        [ 0.14158536],\n",
       "        [-0.15812863],\n",
       "        [ 0.10223276],\n",
       "        [-0.01588553],\n",
       "        [-0.14618391],\n",
       "        [ 0.17880377],\n",
       "        [-0.11152536],\n",
       "        [-0.09304016],\n",
       "        [-0.14411357],\n",
       "        [-0.12327066],\n",
       "        [-0.10748331],\n",
       "        [ 0.11989441],\n",
       "        [ 0.19188724],\n",
       "        [-0.18084504],\n",
       "        [ 0.39253202],\n",
       "        [-0.14832678],\n",
       "        [ 0.08521276],\n",
       "        [ 0.30146107],\n",
       "        [ 0.18177474],\n",
       "        [-0.03345336],\n",
       "        [-0.19186951],\n",
       "        [ 0.13311322],\n",
       "        [-0.24679555],\n",
       "        [-0.14339715],\n",
       "        [-0.0279377 ],\n",
       "        [-0.17418063],\n",
       "        [-0.06031482],\n",
       "        [ 0.16404599],\n",
       "        [-0.01196207],\n",
       "        [-0.0650178 ],\n",
       "        [-0.12487052],\n",
       "        [-0.11656656],\n",
       "        [-0.04696133],\n",
       "        [-0.08144376],\n",
       "        [-0.16560993],\n",
       "        [-0.20450124],\n",
       "        [ 0.17832048],\n",
       "        [-0.14545216],\n",
       "        [-0.14633366],\n",
       "        [-0.2718008 ],\n",
       "        [ 0.51827234],\n",
       "        [ 0.20465955],\n",
       "        [-0.21984386],\n",
       "        [-0.01146789],\n",
       "        [-0.10965341],\n",
       "        [-0.3220004 ],\n",
       "        [ 0.04430831],\n",
       "        [-0.06672398],\n",
       "        [-0.1838497 ],\n",
       "        [ 0.5060922 ],\n",
       "        [ 0.08304092],\n",
       "        [-0.18854463],\n",
       "        [-0.2878597 ],\n",
       "        [-0.08619817],\n",
       "        [-0.17164387],\n",
       "        [ 0.15178213],\n",
       "        [-0.05417836],\n",
       "        [ 0.00613294],\n",
       "        [-0.00631597],\n",
       "        [-0.03996399],\n",
       "        [-0.36982915],\n",
       "        [-0.18385601],\n",
       "        [ 0.1499808 ],\n",
       "        [-0.13747394],\n",
       "        [-0.01508607],\n",
       "        [ 0.09737594],\n",
       "        [-0.18475015],\n",
       "        [ 0.07822273],\n",
       "        [-0.17176229],\n",
       "        [ 0.12578012],\n",
       "        [-0.05453464],\n",
       "        [ 0.22140765],\n",
       "        [-0.15676555],\n",
       "        [-0.16727749],\n",
       "        [ 0.12449789],\n",
       "        [-0.13996893],\n",
       "        [ 0.2597107 ],\n",
       "        [ 0.05209962],\n",
       "        [ 0.12480591],\n",
       "        [ 0.09507404],\n",
       "        [ 0.22447293],\n",
       "        [ 0.18586193],\n",
       "        [ 0.18539011],\n",
       "        [ 0.010908  ],\n",
       "        [ 0.17086379],\n",
       "        [ 0.22047529],\n",
       "        [ 0.14526418],\n",
       "        [-0.03987145],\n",
       "        [-0.19239433],\n",
       "        [-0.711958  ],\n",
       "        [-0.01727686]], dtype=float32),\n",
       " array([-0.84453017], dtype=float32)]"
      ]
     },
     "execution_count": 4,
     "metadata": {},
     "output_type": "execute_result"
    }
   ],
   "source": [
    "model.get_weights()"
   ]
  },
  {
   "cell_type": "code",
   "execution_count": 5,
   "metadata": {},
   "outputs": [],
   "source": [
    "# Step 2: Helper Functions\n",
    "# Function to decode reviews\n",
    "def decode_review(encoded_review):\n",
    "    return ' '.join([reverse_word_index.get(i - 3, '?') for i in encoded_review])\n",
    "\n",
    "# Function to preprocess user input\n",
    "def preprocess_text(text):\n",
    "    words = text.lower().split()\n",
    "    encoded_review = [word_index.get(word, 2) + 3 for word in words]\n",
    "    padded_review = sequence.pad_sequences([encoded_review], maxlen=500)\n",
    "    return padded_review"
   ]
  },
  {
   "cell_type": "code",
   "execution_count": 6,
   "metadata": {},
   "outputs": [],
   "source": [
    "# prediction function\n",
    "\n",
    "def predict_sentiment(review):\n",
    "    preprocessed_input = preprocess_text(review)\n",
    "\n",
    "    prediction = model.predict(preprocessed_input)\n",
    "\n",
    "    sentiment = 'Positive' if prediction[0][0] > 0.5 else 'Negative'\n",
    "    \n",
    "    return sentiment, prediction[0][0]"
   ]
  },
  {
   "cell_type": "code",
   "execution_count": 21,
   "metadata": {},
   "outputs": [
    {
     "name": "stdout",
     "output_type": "stream",
     "text": [
      "\u001b[1m1/1\u001b[0m \u001b[32m━━━━━━━━━━━━━━━━━━━━\u001b[0m\u001b[37m\u001b[0m \u001b[1m0s\u001b[0m 14ms/step\n",
      "Example review: The movie was not good.\n",
      "Sentiment : Negative\n",
      "Prediction Score : 0.1593915820121765\n"
     ]
    }
   ],
   "source": [
    "# Step 4: User Input and Prediction\n",
    "# Example review for prediction\n",
    "# example_review = \"This movie was really nice! The acting was great and the plot was thrilling. I completely enjyoyed it.\"\n",
    "example_review = \"The movie was not good.\"\n",
    "\n",
    "sentiment, score = predict_sentiment(example_review)\n",
    "\n",
    "print(f\"Example review: {example_review}\")\n",
    "print(f\"Sentiment : {sentiment}\")\n",
    "print(f\"Prediction Score : {score}\")"
   ]
  },
  {
   "cell_type": "code",
   "execution_count": null,
   "metadata": {},
   "outputs": [],
   "source": []
  }
 ],
 "metadata": {
  "kernelspec": {
   "display_name": "Python 3",
   "language": "python",
   "name": "python3"
  },
  "language_info": {
   "codemirror_mode": {
    "name": "ipython",
    "version": 3
   },
   "file_extension": ".py",
   "mimetype": "text/x-python",
   "name": "python",
   "nbconvert_exporter": "python",
   "pygments_lexer": "ipython3",
   "version": "3.11.0"
  }
 },
 "nbformat": 4,
 "nbformat_minor": 2
}
