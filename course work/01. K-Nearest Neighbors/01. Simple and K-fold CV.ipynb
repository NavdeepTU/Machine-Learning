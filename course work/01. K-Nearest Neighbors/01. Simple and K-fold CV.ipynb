{
 "cells": [
  {
   "cell_type": "markdown",
   "metadata": {},
   "source": [
    "# Simple and K-Fold cross-validation"
   ]
  },
  {
   "cell_type": "code",
   "execution_count": 1,
   "metadata": {},
   "outputs": [],
   "source": [
    "# Loading libraries\n",
    "import numpy as np\n",
    "import pandas as pd\n",
    "import matplotlib.pyplot as plt\n",
    "from sklearn.neighbors import KNeighborsClassifier\n",
    "from sklearn.model_selection import train_test_split\n",
    "from sklearn.model_selection import cross_val_score\n",
    "from sklearn.metrics import accuracy_score"
   ]
  },
  {
   "cell_type": "code",
   "execution_count": 2,
   "metadata": {},
   "outputs": [
    {
     "data": {
      "text/html": [
       "<div>\n",
       "<style scoped>\n",
       "    .dataframe tbody tr th:only-of-type {\n",
       "        vertical-align: middle;\n",
       "    }\n",
       "\n",
       "    .dataframe tbody tr th {\n",
       "        vertical-align: top;\n",
       "    }\n",
       "\n",
       "    .dataframe thead th {\n",
       "        text-align: right;\n",
       "    }\n",
       "</style>\n",
       "<table border=\"1\" class=\"dataframe\">\n",
       "  <thead>\n",
       "    <tr style=\"text-align: right;\">\n",
       "      <th></th>\n",
       "      <th>x</th>\n",
       "      <th>y</th>\n",
       "      <th>class</th>\n",
       "    </tr>\n",
       "  </thead>\n",
       "  <tbody>\n",
       "    <tr>\n",
       "      <th>0</th>\n",
       "      <td>0.700335</td>\n",
       "      <td>-0.247068</td>\n",
       "      <td>0.0</td>\n",
       "    </tr>\n",
       "    <tr>\n",
       "      <th>1</th>\n",
       "      <td>-3.950019</td>\n",
       "      <td>2.740080</td>\n",
       "      <td>1.0</td>\n",
       "    </tr>\n",
       "    <tr>\n",
       "      <th>2</th>\n",
       "      <td>0.150222</td>\n",
       "      <td>-2.157638</td>\n",
       "      <td>1.0</td>\n",
       "    </tr>\n",
       "    <tr>\n",
       "      <th>3</th>\n",
       "      <td>-1.672050</td>\n",
       "      <td>-0.941519</td>\n",
       "      <td>1.0</td>\n",
       "    </tr>\n",
       "    <tr>\n",
       "      <th>4</th>\n",
       "      <td>2.560483</td>\n",
       "      <td>-1.846577</td>\n",
       "      <td>1.0</td>\n",
       "    </tr>\n",
       "  </tbody>\n",
       "</table>\n",
       "</div>"
      ],
      "text/plain": [
       "          x         y  class\n",
       "0  0.700335 -0.247068    0.0\n",
       "1 -3.950019  2.740080    1.0\n",
       "2  0.150222 -2.157638    1.0\n",
       "3 -1.672050 -0.941519    1.0\n",
       "4  2.560483 -1.846577    1.0"
      ]
     },
     "execution_count": 2,
     "metadata": {},
     "output_type": "execute_result"
    }
   ],
   "source": [
    "# data preprocessing\n",
    "\n",
    "# define column names\n",
    "names = ['x', 'y', 'class']\n",
    "\n",
    "# loading training data\n",
    "df = pd.read_csv('3.concertriccir2.csv', header=None, names=names)\n",
    "df.head()"
   ]
  },
  {
   "cell_type": "code",
   "execution_count": 3,
   "metadata": {},
   "outputs": [
    {
     "name": "stdout",
     "output_type": "stream",
     "text": [
      "<class 'pandas.core.frame.DataFrame'>\n",
      "RangeIndex: 500 entries, 0 to 499\n",
      "Data columns (total 3 columns):\n",
      "x        500 non-null float64\n",
      "y        500 non-null float64\n",
      "class    500 non-null float64\n",
      "dtypes: float64(3)\n",
      "memory usage: 11.8 KB\n"
     ]
    }
   ],
   "source": [
    "df.info()"
   ]
  },
  {
   "cell_type": "code",
   "execution_count": 4,
   "metadata": {},
   "outputs": [
    {
     "data": {
      "text/plain": [
       "1.0    250\n",
       "0.0    250\n",
       "Name: class, dtype: int64"
      ]
     },
     "execution_count": 4,
     "metadata": {},
     "output_type": "execute_result"
    }
   ],
   "source": [
    "df['class'].value_counts()"
   ]
  },
  {
   "cell_type": "code",
   "execution_count": 5,
   "metadata": {},
   "outputs": [
    {
     "name": "stdout",
     "output_type": "stream",
     "text": [
      "(500, 2)\n",
      "(500,)\n"
     ]
    }
   ],
   "source": [
    "# create design matrix X and target vector y\n",
    "X = np.array(df.iloc[:,:2]) # end index is exclusive\n",
    "y = np.array(df['class']) # another way of indexing pandas dataframe column\n",
    "print(X.shape)\n",
    "print(y.shape)"
   ]
  },
  {
   "cell_type": "markdown",
   "metadata": {},
   "source": [
    "## Simple Cross Validation"
   ]
  },
  {
   "cell_type": "code",
   "execution_count": 6,
   "metadata": {},
   "outputs": [
    {
     "name": "stdout",
     "output_type": "stream",
     "text": [
      "\n",
      "CV accuracy for k = 1 is 84.0%\n",
      "\n",
      "CV accuracy for k = 3 is 86.0%\n",
      "\n",
      "CV accuracy for k = 5 is 90.0%\n",
      "\n",
      "CV accuracy for k = 7 is 83.0%\n",
      "\n",
      "CV accuracy for k = 9 is 84.0%\n",
      "\n",
      "CV accuracy for k = 11 is 79.0%\n",
      "\n",
      "CV accuracy for k = 13 is 80.0%\n",
      "\n",
      "CV accuracy for k = 15 is 79.0%\n",
      "\n",
      "CV accuracy for k = 17 is 78.0%\n",
      "\n",
      "CV accuracy for k = 19 is 78.0%\n",
      "\n",
      "CV accuracy for k = 21 is 76.0%\n",
      "\n",
      "CV accuracy for k = 23 is 73.0%\n",
      "\n",
      "CV accuracy for k = 25 is 72.0%\n",
      "\n",
      "CV accuracy for k = 27 is 70.0%\n",
      "\n",
      "CV accuracy for k = 29 is 69.0%\n"
     ]
    }
   ],
   "source": [
    "# split the dataset into train and test\n",
    "X_1, X_test, y_1, y_test = train_test_split(X, y, test_size=0.3)\n",
    "\n",
    "# split the train dataset into crossvalidation train and crossvalidation test\n",
    "X_tr, X_cv, y_tr, y_cv = train_test_split(X_1, y_1, test_size=0.3)\n",
    "\n",
    "for i in range(1,30,2):\n",
    "    # instantiate learning model (k=i)\n",
    "    knn = KNeighborsClassifier(n_neighbors=i)\n",
    "    \n",
    "    # fitting the model on train data\n",
    "    knn.fit(X_tr, y_tr)\n",
    "    \n",
    "    # predict the response on the crossvalidation data\n",
    "    pred = knn.predict(X_cv)\n",
    "    \n",
    "    # evaluate CV accuracy\n",
    "    acc = accuracy_score(y_cv, pred, normalize=True) * float(100)\n",
    "    print(f'\\nCV accuracy for k = {i} is {round(acc)}%')"
   ]
  },
  {
   "cell_type": "code",
   "execution_count": 7,
   "metadata": {},
   "outputs": [
    {
     "name": "stdout",
     "output_type": "stream",
     "text": [
      "Test accuracy for k = 1 is 89.0%\n"
     ]
    }
   ],
   "source": [
    "# training optimal model\n",
    "optimal_k = 1\n",
    "knn = KNeighborsClassifier(n_neighbors=optimal_k)\n",
    "knn.fit(X_tr, y_tr)\n",
    "pred = knn.predict(X_test)\n",
    "acc = accuracy_score(y_test, pred, normalize=True) * float(100)\n",
    "print('Test accuracy for k = {} is {}%'.format(optimal_k, round(acc)))"
   ]
  },
  {
   "cell_type": "markdown",
   "metadata": {},
   "source": [
    "## 10-fold Cross Validation"
   ]
  },
  {
   "cell_type": "code",
   "execution_count": 8,
   "metadata": {},
   "outputs": [],
   "source": [
    "# creating odd list of K for KNN\n",
    "mylist = list(range(0, 50))\n",
    "neighbors = list(filter(lambda x : x % 2 != 0, mylist))\n",
    "\n",
    "# empty list that will hold cv scores\n",
    "cv_scores = []\n",
    "\n",
    "# perform 10-fold cross validation\n",
    "for k in neighbors:\n",
    "    knn = KNeighborsClassifier(n_neighbors=k)\n",
    "    scores = cross_val_score(knn, X_tr, y_tr, cv=10, scoring='accuracy') # this will return an array of size 10\n",
    "    cv_scores.append(scores.mean())"
   ]
  },
  {
   "cell_type": "code",
   "execution_count": 10,
   "metadata": {},
   "outputs": [
    {
     "data": {
      "text/plain": [
       "[0.8853333333333333,\n",
       " 0.8851666666666667,\n",
       " 0.861,\n",
       " 0.8364999999999998,\n",
       " 0.8328333333333333]"
      ]
     },
     "execution_count": 10,
     "metadata": {},
     "output_type": "execute_result"
    }
   ],
   "source": [
    "cv_scores[:5]"
   ]
  },
  {
   "cell_type": "code",
   "execution_count": 11,
   "metadata": {},
   "outputs": [
    {
     "name": "stdout",
     "output_type": "stream",
     "text": [
      "optimal number of neighbors is 1\n"
     ]
    }
   ],
   "source": [
    "# changing to misclassification error\n",
    "MSE = [1 - x for x in cv_scores]\n",
    "\n",
    "# determining best k\n",
    "optimal_k = neighbors[MSE.index(min(MSE))]\n",
    "print(f'optimal number of neighbors is {optimal_k}')"
   ]
  },
  {
   "cell_type": "code",
   "execution_count": 16,
   "metadata": {},
   "outputs": [
    {
     "data": {
      "image/png": "[encoded data removed]",
      "text/plain": [
       "<Figure size 432x288 with 1 Axes>"
      ]
     },
     "metadata": {
      "needs_background": "light"
     },
     "output_type": "display_data"
    }
   ],
   "source": [
    "# plot misclassification error vs k\n",
    "plt.plot(neighbors, MSE)\n",
    "for xy in zip(neighbors, np.round(MSE, 3)):\n",
    "    plt.annotate(s=xy, xy=xy)\n",
    "plt.xlabel('Number of Neighbors K')\n",
    "plt.ylabel('Misclassification Error')\n",
    "plt.show()"
   ]
  },
  {
   "cell_type": "code",
   "execution_count": 17,
   "metadata": {},
   "outputs": [
    {
     "name": "stdout",
     "output_type": "stream",
     "text": [
      "the misclassification error for each k value is :  [0.115 0.115 0.139 0.164 0.167 0.191 0.2   0.208 0.236 0.244 0.24  0.273\n",
      " 0.281 0.297 0.326 0.326 0.347 0.383 0.391 0.391 0.4   0.416 0.424 0.432\n",
      " 0.436]\n"
     ]
    }
   ],
   "source": [
    "print(\"the misclassification error for each k value is : \", np.round(MSE, 3))"
   ]
  },
  {
   "cell_type": "code",
   "execution_count": 20,
   "metadata": {},
   "outputs": [
    {
     "name": "stdout",
     "output_type": "stream",
     "text": [
      "The accuracy for KNN classifier for k = 1 is 89.33333333333333%\n"
     ]
    }
   ],
   "source": [
    "# KNN with k = optimal_k\n",
    "# instantiate learning model k = optimal_k\n",
    "knn_optimal = KNeighborsClassifier(n_neighbors=optimal_k)\n",
    "\n",
    "# fitting the model\n",
    "knn_optimal.fit(X_tr, y_tr)\n",
    "\n",
    "# predict the response\n",
    "pred = knn_optimal.predict(X_test)\n",
    "\n",
    "# evaluate accuracy\n",
    "acc = accuracy_score(y_test, pred) * 100\n",
    "print(\"The accuracy for KNN classifier for k = {} is {}%\".format(optimal_k, acc))"
   ]
  },
  {
   "cell_type": "code",
   "execution_count": null,
   "metadata": {},
   "outputs": [],
   "source": []
  }
 ],
 "metadata": {
  "kernelspec": {
   "display_name": "Python 3",
   "language": "python",
   "name": "python3"
  },
  "language_info": {
   "codemirror_mode": {
    "name": "ipython",
    "version": 3
   },
   "file_extension": ".py",
   "mimetype": "text/x-python",
   "name": "python",
   "nbconvert_exporter": "python",
   "pygments_lexer": "ipython3",
   "version": "3.6.6"
  }
 },
 "nbformat": 4,
 "nbformat_minor": 2
}
