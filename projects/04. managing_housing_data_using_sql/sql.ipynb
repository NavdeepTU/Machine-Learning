{
 "cells": [
  {
   "cell_type": "code",
   "execution_count": 1,
   "metadata": {},
   "outputs": [],
   "source": [
    "import sqlite3"
   ]
  },
  {
   "cell_type": "code",
   "execution_count": 3,
   "metadata": {},
   "outputs": [],
   "source": [
    "# connect to the sqlite database (or create it if it doesn't exist)\n",
    "conn = sqlite3.connect(\"housing.db\")\n",
    "cursor = conn.cursor()"
   ]
  },
  {
   "cell_type": "code",
   "execution_count": 4,
   "metadata": {},
   "outputs": [],
   "source": [
    "# create the houses table\n",
    "cursor.execute('''\n",
    "CREATE TABLE IF NOT EXISTS houses (\n",
    "               id INTEGER PRIMARY KEY,\n",
    "               address TEXT,\n",
    "               city TEXT,\n",
    "               state TEXT,\n",
    "               zip_code TEXT,\n",
    "               price INTEGER,\n",
    "               bedrooms INTEGER\n",
    ")\n",
    "''')\n",
    "\n",
    "# Commit the changes\n",
    "conn.commit()"
   ]
  },
  {
   "cell_type": "code",
   "execution_count": 5,
   "metadata": {},
   "outputs": [],
   "source": [
    "# insert sample data\n",
    "cursor.executemany('''\n",
    "INSERT INTO houses (address, city, state, zip_code, price, bedrooms)\n",
    "                    VALUES (?, ?, ?, ?, ?, ?)\n",
    "                   ''', [\n",
    "                       (\"123 Main St\", \"Springfield\", \"IL\", \"62704\", 250000, 3),\n",
    "                       ('456 Elm St', 'Springfield', 'IL', '62704', 300000, 4),\n",
    "                       ('789 Oak St', 'Champaign', 'IL', '61820', 220000, 2),\n",
    "                       ('101 Pine St', 'Urbana', 'IL', '61801', 280000, 3),\n",
    "                       ('112 Maple St', 'Bloomington', 'IL', '61701', 350000, 5)\n",
    "                   ])\n",
    "\n",
    "# Commit the changes\n",
    "conn.commit()"
   ]
  },
  {
   "cell_type": "code",
   "execution_count": 6,
   "metadata": {},
   "outputs": [
    {
     "name": "stdout",
     "output_type": "stream",
     "text": [
      "(1, '123 Main St', 'Springfield', 'IL', '62704', 250000, 3)\n",
      "(2, '456 Elm St', 'Springfield', 'IL', '62704', 300000, 4)\n",
      "(3, '789 Oak St', 'Champaign', 'IL', '61820', 220000, 2)\n",
      "(4, '101 Pine St', 'Urbana', 'IL', '61801', 280000, 3)\n",
      "(5, '112 Maple St', 'Bloomington', 'IL', '61701', 350000, 5)\n"
     ]
    }
   ],
   "source": [
    "# select all records from the houses table\n",
    "cursor.execute(\"SELECT * FROM houses\")\n",
    "rows = cursor.fetchall()\n",
    "for row in rows:\n",
    "    print(row)"
   ]
  },
  {
   "cell_type": "code",
   "execution_count": 7,
   "metadata": {},
   "outputs": [
    {
     "name": "stdout",
     "output_type": "stream",
     "text": [
      "(5, '112 Maple St', 'Bloomington', 'IL', '61701', 350000, 5)\n"
     ]
    }
   ],
   "source": [
    "# select houses with a price greater than 300,000\n",
    "cursor.execute(\"SELECT * FROM houses WHERE price > 300000\")\n",
    "rows = cursor.fetchall()\n",
    "for row in rows:\n",
    "    print(row)"
   ]
  },
  {
   "cell_type": "code",
   "execution_count": 9,
   "metadata": {},
   "outputs": [
    {
     "name": "stdout",
     "output_type": "stream",
     "text": [
      "(1, '123 Main St', 'Springfield', 'IL', '62704', 260000, 3)\n"
     ]
    }
   ],
   "source": [
    "# update the price of the house at 123 Main St\n",
    "cursor.execute(\"UPDATE houses SET price = 260000 WHERE address = '123 Main St'\")\n",
    "conn.commit()\n",
    "\n",
    "# Verify the update\n",
    "cursor.execute(\"SELECT * FROM houses WHERE address = '123 Main St'\")\n",
    "row = cursor.fetchone()\n",
    "print(row)"
   ]
  },
  {
   "cell_type": "code",
   "execution_count": 12,
   "metadata": {},
   "outputs": [
    {
     "name": "stdout",
     "output_type": "stream",
     "text": [
      "None\n"
     ]
    }
   ],
   "source": [
    "# delete the house at 112 Maple St\n",
    "cursor.execute(\"delete from houses where address = '112 Maple St'\")\n",
    "conn.commit()\n",
    "\n",
    "# verify the deletion\n",
    "cursor.execute(\"select * from houses where address = '112 Maple St'\")\n",
    "row = cursor.fetchone()\n",
    "print(row)"
   ]
  },
  {
   "cell_type": "code",
   "execution_count": 13,
   "metadata": {},
   "outputs": [
    {
     "name": "stdout",
     "output_type": "stream",
     "text": [
      "('Champaign', 220000.0)\n",
      "('Springfield', 280000.0)\n",
      "('Urbana', 280000.0)\n"
     ]
    }
   ],
   "source": [
    "# group by city and calculate the average price\n",
    "cursor.execute(\"select city, avg(price) as avg_price from houses group by city\")\n",
    "rows = cursor.fetchall()\n",
    "for row in rows:\n",
    "    print(row)"
   ]
  },
  {
   "cell_type": "code",
   "execution_count": 15,
   "metadata": {},
   "outputs": [
    {
     "data": {
      "text/plain": [
       "<sqlite3.Cursor at 0x107dde540>"
      ]
     },
     "execution_count": 15,
     "metadata": {},
     "output_type": "execute_result"
    }
   ],
   "source": [
    "# create a second table for house features\n",
    "cursor.execute('''\n",
    "create table if not exists features (\n",
    "               house_id integer,\n",
    "               feature text,\n",
    "               foreign key (house_id) references houses (id)\n",
    ")\n",
    "''')\n",
    "\n",
    "# insert sample data into the features table\n",
    "cursor.executemany()"
   ]
  },
  {
   "cell_type": "code",
   "execution_count": null,
   "metadata": {},
   "outputs": [],
   "source": []
  }
 ],
 "metadata": {
  "kernelspec": {
   "display_name": "venv",
   "language": "python",
   "name": "python3"
  },
  "language_info": {
   "codemirror_mode": {
    "name": "ipython",
    "version": 3
   },
   "file_extension": ".py",
   "mimetype": "text/x-python",
   "name": "python",
   "nbconvert_exporter": "python",
   "pygments_lexer": "ipython3",
   "version": "3.12.0"
  }
 },
 "nbformat": 4,
 "nbformat_minor": 2
}
